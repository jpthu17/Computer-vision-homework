{
 "cells": [
  {
   "cell_type": "code",
   "execution_count": 60,
   "metadata": {},
   "outputs": [
    {
     "name": "stdout",
     "output_type": "stream",
     "text": [
      "torch.Size([60000, 28, 28])\n",
      "torch.Size([60000, 1, 28, 28])\n"
     ]
    }
   ],
   "source": [
    "import torch\n",
    "import torch.nn as nn\n",
    "import torch.utils.data as Data\n",
    "import torchvision\n",
    "import torch.nn.functional as F\n",
    "import numpy as np\n",
    "\n",
    "# torch.manual_seed(1)\n",
    "\n",
    "EPOCH = 10\n",
    "LR = 0.001\n",
    "DOWNLOAD_MNIST = True\n",
    "\n",
    "train_data = torchvision.datasets.MNIST(root='./mnist/', train=True, transform=torchvision.transforms.ToTensor(),\n",
    "                                        download=DOWNLOAD_MNIST, )\n",
    "test_data = torchvision.datasets.MNIST(root='./mnist/', train=False)\n",
    "print(train_data.train_data.shape)\n",
    "\n",
    "train_x = torch.unsqueeze(train_data.train_data, dim=1).type(torch.FloatTensor) / 255.\n",
    "train_y = train_data.train_labels\n",
    "print(train_x.shape)\n",
    "\n",
    "test_x = torch.unsqueeze(test_data.test_data, dim=1).type(torch.FloatTensor)[:2000] / 255.  # Tensor on GPU\n",
    "test_y = test_data.test_labels[:2000]"
   ]
  },
  {
   "cell_type": "code",
   "execution_count": 2,
   "metadata": {},
   "outputs": [
    {
     "data": {
      "text/plain": [
       "torch.Size([2000, 1, 28, 28])"
      ]
     },
     "execution_count": 2,
     "metadata": {},
     "output_type": "execute_result"
    }
   ],
   "source": [
    "test_x.shape"
   ]
  },
  {
   "cell_type": "code",
   "execution_count": 3,
   "metadata": {},
   "outputs": [],
   "source": [
    "import matplotlib.pyplot as plt"
   ]
  },
  {
   "cell_type": "code",
   "execution_count": 4,
   "metadata": {},
   "outputs": [
    {
     "data": {
      "text/plain": [
       "<matplotlib.image.AxesImage at 0x7f92ce80f3a0>"
      ]
     },
     "execution_count": 4,
     "metadata": {},
     "output_type": "execute_result"
    },
    {
     "data": {
      "image/png": "[encoded data removed]",
      "text/plain": [
       "<Figure size 432x288 with 1 Axes>"
      ]
     },
     "metadata": {
      "needs_background": "light"
     },
     "output_type": "display_data"
    }
   ],
   "source": [
    "plt.imshow(test_x[1,0,:,:].numpy(), 'gray')"
   ]
  },
  {
   "cell_type": "code",
   "execution_count": 5,
   "metadata": {},
   "outputs": [
    {
     "data": {
      "text/plain": [
       "tensor([7, 2, 1, 0, 4, 1, 4, 9, 5, 9])"
      ]
     },
     "execution_count": 5,
     "metadata": {},
     "output_type": "execute_result"
    }
   ],
   "source": [
    "test_y[:10]"
   ]
  },
  {
   "cell_type": "code",
   "execution_count": 94,
   "metadata": {},
   "outputs": [
    {
     "name": "stdout",
     "output_type": "stream",
     "text": [
      "Epoch:  0 | train loss: 2.4119 | test accuracy: 0.468\n",
      "Epoch:  0 | train loss: 0.9417 | test accuracy: 0.934\n",
      "Epoch:  0 | train loss: 0.6772 | test accuracy: 0.965\n",
      "Epoch:  0 | train loss: 0.4473 | test accuracy: 0.973\n",
      "Epoch:  0 | train loss: 0.3355 | test accuracy: 0.975\n",
      "Epoch:  0 | train loss: 0.2911 | test accuracy: 0.980\n",
      "Epoch:  0 | train loss: 0.2189 | test accuracy: 0.981\n",
      "Epoch:  1 | train loss: 0.2195 | test accuracy: 0.976\n",
      "Epoch:  1 | train loss: 0.1629 | test accuracy: 0.979\n",
      "Epoch:  1 | train loss: 0.0874 | test accuracy: 0.984\n",
      "Epoch:  1 | train loss: 0.0605 | test accuracy: 0.985\n",
      "Epoch:  1 | train loss: 0.0947 | test accuracy: 0.982\n",
      "Epoch:  1 | train loss: 0.0489 | test accuracy: 0.984\n",
      "Epoch:  1 | train loss: 0.1540 | test accuracy: 0.980\n",
      "Epoch:  2 | train loss: 0.0462 | test accuracy: 0.983\n",
      "Epoch:  2 | train loss: 0.0432 | test accuracy: 0.986\n",
      "Epoch:  2 | train loss: 0.0730 | test accuracy: 0.982\n",
      "Epoch:  2 | train loss: 0.0415 | test accuracy: 0.984\n",
      "Epoch:  2 | train loss: 0.0282 | test accuracy: 0.983\n",
      "Epoch:  2 | train loss: 0.0321 | test accuracy: 0.983\n",
      "Epoch:  2 | train loss: 0.0884 | test accuracy: 0.983\n",
      "Epoch:  3 | train loss: 0.0380 | test accuracy: 0.984\n",
      "Epoch:  3 | train loss: 0.0222 | test accuracy: 0.983\n",
      "Epoch:  3 | train loss: 0.0200 | test accuracy: 0.985\n",
      "Epoch:  3 | train loss: 0.0183 | test accuracy: 0.988\n",
      "Epoch:  3 | train loss: 0.0233 | test accuracy: 0.988\n",
      "Epoch:  3 | train loss: 0.0200 | test accuracy: 0.985\n",
      "Epoch:  3 | train loss: 0.0238 | test accuracy: 0.986\n",
      "Epoch:  4 | train loss: 0.0200 | test accuracy: 0.985\n",
      "Epoch:  4 | train loss: 0.0124 | test accuracy: 0.984\n",
      "Epoch:  4 | train loss: 0.0126 | test accuracy: 0.983\n",
      "Epoch:  4 | train loss: 0.0086 | test accuracy: 0.987\n",
      "Epoch:  4 | train loss: 0.0246 | test accuracy: 0.984\n",
      "Epoch:  4 | train loss: 0.0100 | test accuracy: 0.983\n",
      "Epoch:  4 | train loss: 0.0067 | test accuracy: 0.990\n",
      "Epoch:  5 | train loss: 0.0064 | test accuracy: 0.988\n",
      "Epoch:  5 | train loss: 0.0084 | test accuracy: 0.990\n",
      "Epoch:  5 | train loss: 0.0170 | test accuracy: 0.988\n",
      "Epoch:  5 | train loss: 0.0143 | test accuracy: 0.985\n",
      "Epoch:  5 | train loss: 0.0044 | test accuracy: 0.986\n",
      "Epoch:  5 | train loss: 0.0421 | test accuracy: 0.980\n",
      "Epoch:  5 | train loss: 0.0107 | test accuracy: 0.989\n",
      "Epoch:  6 | train loss: 0.0100 | test accuracy: 0.988\n",
      "Epoch:  6 | train loss: 0.0099 | test accuracy: 0.989\n",
      "Epoch:  6 | train loss: 0.0056 | test accuracy: 0.989\n",
      "Epoch:  6 | train loss: 0.0028 | test accuracy: 0.990\n",
      "Epoch:  6 | train loss: 0.0074 | test accuracy: 0.988\n",
      "Epoch:  6 | train loss: 0.0049 | test accuracy: 0.988\n",
      "Epoch:  6 | train loss: 0.0061 | test accuracy: 0.988\n",
      "Epoch:  7 | train loss: 0.0034 | test accuracy: 0.990\n",
      "Epoch:  7 | train loss: 0.0042 | test accuracy: 0.988\n",
      "Epoch:  7 | train loss: 0.0097 | test accuracy: 0.988\n",
      "Epoch:  7 | train loss: 0.0039 | test accuracy: 0.988\n",
      "Epoch:  7 | train loss: 0.0021 | test accuracy: 0.988\n",
      "Epoch:  7 | train loss: 0.0018 | test accuracy: 0.988\n",
      "Epoch:  7 | train loss: 0.0022 | test accuracy: 0.990\n",
      "Epoch:  8 | train loss: 0.0018 | test accuracy: 0.988\n",
      "Epoch:  8 | train loss: 0.0011 | test accuracy: 0.989\n",
      "Epoch:  8 | train loss: 0.0018 | test accuracy: 0.988\n",
      "Epoch:  8 | train loss: 0.0062 | test accuracy: 0.989\n",
      "Epoch:  8 | train loss: 0.0012 | test accuracy: 0.985\n",
      "Epoch:  8 | train loss: 0.0012 | test accuracy: 0.988\n",
      "Epoch:  8 | train loss: 0.0020 | test accuracy: 0.991\n",
      "Epoch:  9 | train loss: 0.0016 | test accuracy: 0.989\n",
      "Epoch:  9 | train loss: 0.0012 | test accuracy: 0.990\n",
      "Epoch:  9 | train loss: 0.0035 | test accuracy: 0.989\n",
      "Epoch:  9 | train loss: 0.0009 | test accuracy: 0.989\n",
      "Epoch:  9 | train loss: 0.0015 | test accuracy: 0.988\n",
      "Epoch:  9 | train loss: 0.0008 | test accuracy: 0.988\n",
      "Epoch:  9 | train loss: 0.0015 | test accuracy: 0.989\n",
      "tensor([7, 2, 1, 0, 4, 1, 4, 9, 5, 9], device='cuda:0') prediction number\n",
      "tensor([7, 2, 1, 0, 4, 1, 4, 9, 5, 9]) real number\n"
     ]
    }
   ],
   "source": [
    "class CNN(nn.Module):\n",
    "    def __init__(self):\n",
    "        super(CNN, self).__init__()\n",
    "        self.conv1 = torch.nn.Sequential(torch.nn.Conv2d(1, 32, 5, 1, 2),\n",
    "                                         nn.BatchNorm2d(32),\n",
    "                                         torch.nn.ReLU(),\n",
    "                                         torch.nn.Conv2d(32, 16, 5, 1, 2),\n",
    "                                         nn.BatchNorm2d(16),\n",
    "                                         torch.nn.ReLU(),\n",
    "                                         torch.nn.MaxPool2d(2, 2)) \n",
    "        self.dense = torch.nn.Sequential(torch.nn.Linear(14*14*16, 1024),\n",
    "                                         nn.BatchNorm1d(1024),\n",
    "                                         torch.nn.ReLU(),\n",
    "                                         torch.nn.Dropout(p = 0.1),\n",
    "                                         torch.nn.Linear(1024, 10),\n",
    "                                         nn.BatchNorm1d(10),\n",
    "                                         torch.nn.Linear(10, 10))\n",
    "        \n",
    "    def forward(self, x) :\n",
    "        x = self.conv1(x)\n",
    "        x = x.view(-1, 14*14*16)\n",
    "        x = self.dense(x)\n",
    "        return x\n",
    "\n",
    "fc = CNN().cuda()\n",
    "Acc = []\n",
    "optimizer = torch.optim.Adam(fc.parameters(), lr=LR)\n",
    "# loss_func = nn.MSELoss()\n",
    "loss_func = nn.CrossEntropyLoss()\n",
    "\n",
    "data_size = 20000\n",
    "batch_size = 64\n",
    "\n",
    "for epoch in range(EPOCH):\n",
    "    random_indx = np.random.permutation(data_size)\n",
    "    for batch_i in range(data_size // batch_size):\n",
    "        indx = random_indx[batch_i * batch_size:(batch_i + 1) * batch_size]\n",
    "\n",
    "        b_x = train_x[indx, :].cuda()\n",
    "        b_y = train_y[indx].cuda()\n",
    "#         print(b_x.shape)\n",
    "#         print(b_y.shape)\n",
    "\n",
    "        output = fc(b_x)\n",
    "        loss = loss_func(output, b_y)\n",
    "\n",
    "        loss.backward()\n",
    "        optimizer.step()\n",
    "        optimizer.zero_grad()\n",
    "\n",
    "        if batch_i % 50 == 0:\n",
    "            test_output = fc(test_x.cuda())\n",
    "            pred_y = torch.max(test_output, 1)[1].data.squeeze()\n",
    "            # pred_y = torch.max(test_output, 1)[1].data.squeeze()\n",
    "            accuracy = torch.sum(pred_y.cpu() == test_y).type(torch.FloatTensor) / test_y.size(0)\n",
    "            print('Epoch: ', epoch, '| train loss: %.4f' % loss.data.cpu().numpy(), '| test accuracy: %.3f' % accuracy)\n",
    "            Acc.append(accuracy)\n",
    "            \n",
    "test_output = fc(test_x[:10].cuda())\n",
    "pred_y = torch.max(test_output, 1)[1].data.squeeze()  # move the computation in GPU\n",
    "\n",
    "print(pred_y, 'prediction number')\n",
    "print(test_y[:10], 'real number')"
   ]
  },
  {
   "cell_type": "code",
   "execution_count": 95,
   "metadata": {},
   "outputs": [
    {
     "name": "stdout",
     "output_type": "stream",
     "text": [
      "tensor([7, 2, 1, 0, 4, 1, 4, 9, 5, 9], device='cuda:0') prediction number\n",
      "tensor([7]) real number\n"
     ]
    }
   ],
   "source": [
    "test_output = fc(test_x[:10].cuda())\n",
    "pred_y = torch.max(test_output, 1)[1].data.squeeze()  # move the computation in GPU\n",
    "\n",
    "print(pred_y, 'prediction number')\n",
    "print(test_y[:1], 'real number')"
   ]
  },
  {
   "cell_type": "code",
   "execution_count": 96,
   "metadata": {},
   "outputs": [
    {
     "data": {
      "text/plain": [
       "tensor([[-0.4724, -2.7129,  0.7178,  2.4784, -1.0697,  0.1608,  0.2947,  9.3774,\n",
       "          0.2319, -2.4415],\n",
       "        [ 0.5155, -0.9804, 12.4559,  0.2334, -3.2105, -2.1188,  1.5936,  1.2220,\n",
       "         -0.1094, -2.1437],\n",
       "        [-1.6514,  8.6914, -1.6815,  0.5631, -2.2473,  1.4819, -1.2586,  0.4301,\n",
       "          0.7055, -1.7792],\n",
       "        [ 9.5026, -3.4176, -3.0087, -1.8318, -4.8210, -3.1106,  0.2264, -3.0399,\n",
       "         -0.7634, -2.4892],\n",
       "        [-1.1882, -2.6850, -2.4546, -0.2243,  8.4558, -1.3819, -2.6257, -2.9492,\n",
       "         -0.3664, -0.7418],\n",
       "        [-0.7368,  9.9990,  0.0432, -0.0221, -4.1387,  0.8102, -1.2294,  1.4968,\n",
       "          0.3400, -1.3793],\n",
       "        [-2.0180, -2.7792, -2.8343, -0.5079,  7.3939, -0.2476, -0.8500, -1.8755,\n",
       "          0.4361, -1.8045],\n",
       "        [-0.4266, -0.1346,  0.1072,  1.3031,  0.3414, -1.4529,  0.7662, -0.6506,\n",
       "         -0.1565,  8.9901],\n",
       "        [-1.7029, -3.2781, -1.4019, -0.3922, -0.5018,  7.3941,  3.5141, -0.1562,\n",
       "          0.7425, -5.6997],\n",
       "        [ 0.2475,  0.0867, -0.5183,  0.9139, -0.2327, -1.9154,  1.0400, -0.1106,\n",
       "         -0.5696, 10.0316]], device='cuda:0', grad_fn=<AddmmBackward>)"
      ]
     },
     "execution_count": 96,
     "metadata": {},
     "output_type": "execute_result"
    }
   ],
   "source": [
    "test_output"
   ]
  },
  {
   "cell_type": "code",
   "execution_count": 97,
   "metadata": {},
   "outputs": [
    {
     "data": {
      "text/plain": [
       "torch.Size([1, 1, 28, 28])"
      ]
     },
     "execution_count": 97,
     "metadata": {},
     "output_type": "execute_result"
    }
   ],
   "source": [
    "test_x[:1].shape"
   ]
  },
  {
   "cell_type": "code",
   "execution_count": 98,
   "metadata": {},
   "outputs": [
    {
     "data": {
      "text/plain": [
       "<matplotlib.image.AxesImage at 0x7f92d2584970>"
      ]
     },
     "execution_count": 98,
     "metadata": {},
     "output_type": "execute_result"
    },
    {
     "data": {
      "image/png": "[encoded data removed]",
      "text/plain": [
       "<Figure size 432x288 with 1 Axes>"
      ]
     },
     "metadata": {
      "needs_background": "light"
     },
     "output_type": "display_data"
    }
   ],
   "source": [
    "plt.imshow(test_x[:1].numpy().squeeze(), 'gray')"
   ]
  },
  {
   "cell_type": "code",
   "execution_count": 99,
   "metadata": {},
   "outputs": [
    {
     "data": {
      "image/png": "[encoded data removed]",
      "text/plain": [
       "<Figure size 432x288 with 1 Axes>"
      ]
     },
     "metadata": {
      "needs_background": "light"
     },
     "output_type": "display_data"
    }
   ],
   "source": [
    "fig, ax = plt.subplots()\n",
    "ax.grid(True, linestyle='-')\n",
    "ax.plot(np.arange(len(Acc)), Acc, color='orange', linewidth=1.5)\n",
    "plt.show()"
   ]
  }
 ],
 "metadata": {
  "kernelspec": {
   "display_name": "Python 3",
   "language": "python",
   "name": "python3"
  },
  "language_info": {
   "codemirror_mode": {
    "name": "ipython",
    "version": 3
   },
   "file_extension": ".py",
   "mimetype": "text/x-python",
   "name": "python",
   "nbconvert_exporter": "python",
   "pygments_lexer": "ipython3",
   "version": "3.8.3"
  }
 },
 "nbformat": 4,
 "nbformat_minor": 4
}
